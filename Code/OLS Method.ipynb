{
 "cells": [
  {
   "cell_type": "code",
   "execution_count": 12,
   "metadata": {},
   "outputs": [
    {
     "name": "stdout",
     "output_type": "stream",
     "text": [
      "['Constituency', 'Electorate', 'Conservative Votes', 'Conservative Vote (proportion)', 'Labour Votes', 'Labour Vote (proportion)', 'Lib Dem Votes', 'Lib Dem Vote (proportion)', 'Turnout (Proportion)', 'Median House Price', 'Ratio of median house price to median salary', 'Home Ownership (proportion of households)', 'Unemployment Rate', 'Share of LSOAs (small areas) in most deprived decile', 'Number of Businesses', 'Number of businesses per capita', 'Standardised Weighted Overall Social Mobility Index', 'School Funding Per Pupil (Real)', 'Are Religous (proportion)', 'Are Not Religious (proportion)', 'Are Christian (proportion)', 'Are Muslim (proportion)', 'Average Internet Speed (Mb/s)', 'Asthma', 'Atrial fibrillation', 'Cancer diagnosis since 2003', 'Cardiovascular disease (primary prevention)', 'Chronic kidney disease', 'COPD', 'Coronary heart disease', 'Dementia', 'Depression', 'Diabetes', 'Epilepsy', 'Heart failure', 'High blood pressure (hypertension)', 'Learning disabilities', 'Obesity', 'Osteoporosis', 'Peripheral arterial disease', 'Rheumatoid arthritis', 'Schizophrenia, bipolar disorder & psychoses', 'Stroke and transient ischaemic attack', '0-9', '19-Oct', '20-29', '30-39', '40-49', '50-59', '60-69', '70-79', '80+', '\"White\"', '\"Mixed\"', '\"Asian\"', '\"Black\"', '\"Other\"', 'vgh', 'gh', 'fh', 'bh', 'vbh', 'CON%1_ps', 'CON%1_ps_65', 'CON%1_ps_Oth', 'CON%1_fm', 'CON%1_fm_lp_dc', 'CON%NO_ADEM', 'CON%NO_ADEM_WCHILD', 'CON%NO_ADEM_NCHILD', 'CON%Own', 'CON%Own_out', 'CON%Own_mort', 'CON%Share', 'CON%Soc_r', 'CON%Soc_r_LA', 'CON%Soc_r_Other', 'CON%Private_rent', 'CON%Private_r_land', 'CON%Private_r_Oth', 'CON%Rent_free', 'CON%NO', 'CON%1CV', 'CON%2CV', 'CON%3CV', 'CON%4+CV', 'CON%No_qual', 'CON%Lev_1_qual', 'CON%Lev_2_qual', 'CON%Appren', 'CON%Lev_3_qual', 'CON%Lev_4_qual', 'CON%Oth_qual', 'CON%AC_ALL', 'CON%AC_EMP', 'CON%AC_EMP_E_P', 'CON%AC_EMP_E_F', 'CON%AC_SELF', 'CON%AC_UNE', 'CON%AC_F_STUD', 'CON%INA_ALL', 'CON%INA_RET', 'CON%INA_STUD', 'CON%INA_CARE', 'CON%INA_LONG SICK', 'CON%INA_OTHER', 'CON%UN_16_24', 'CON%UN_50_74', 'CON%UN_NEVER', 'CON%UN_LONG', 'CON%A_FOR_FISH', 'CON%M_Q', 'CON%MANF', 'CON%E_G_S_AIR', 'CON%W_SEW_WAST_REM', 'CON%CONST', 'CON%WT_RT_REPM', 'CON%TRAN_STOR', 'CON%ACCOM_FOOD', 'CON%INF_COM', 'CON%FIN_INS', 'CON%REAL', 'CON%PROF_SCI_TECH', 'CON%ADMIN_SUPP', 'CON%ADMIN_DEF', 'CON%EDUC', 'CON%HEAL_SOC', 'CON%OTHER', 'CON%MAN_DIR_SEN', 'CON%PROF', 'CON%ASSOC_PROF_TECH', 'CON%ADMIN_SEC', 'CON%SKILL', 'CON%CAR_LEI_', 'CON%SAL_SERV', 'CON%OPS', 'CON%ELEM', 'CON%H_MAN_AD_PROF', 'CON%LG_E_H_MAN_AD', 'CON%H_PROF', 'CON%L_MAN_AD_PROF', 'CON%I_OCC', 'CON%S_EMP_OWN', 'CON%L_SUP_TECH', 'CON%SEMI', 'CON%ROUT', 'CON%N_WKD_L_EMP', 'CON%N_WKD', 'CON%L_EMP', 'CON%NON_C', 'CON%FT_STUD', 'Brexit', 'Brexit Predicted']\n"
     ]
    },
    {
     "data": {
      "text/plain": [
       "\"\\n\\nols_model = smf.ols(formula='Brexit ~ 'Diabetes', 'CON%WT_RT_REPM'', data=brexit)\\nresults = ols_model.fit()\\nprint(results.summary())\\n\\n\""
      ]
     },
     "execution_count": 12,
     "metadata": {},
     "output_type": "execute_result"
    }
   ],
   "source": [
    "import pandas as pd \n",
    "import statsmodels.formula.api as smf\n",
    "import numpy as np\n",
    "import matplotlib.pyplot as plt\n",
    "from scipy.stats import norm\n",
    "\n",
    "\n",
    "brexit = pd.read_csv('brexit1.csv')\n",
    "\n",
    "\n",
    "column_names = list(brexit)\n",
    "\n",
    "print(column_names)\n",
    "'''\n",
    "\n",
    "ols_model = smf.ols(formula='Brexit ~ 'Diabetes', 'CON%WT_RT_REPM'', data=brexit)\n",
    "results = ols_model.fit()\n",
    "print(results.summary())\n",
    "\n",
    "'''"
   ]
  },
  {
   "cell_type": "code",
   "execution_count": null,
   "metadata": {},
   "outputs": [],
   "source": []
  }
 ],
 "metadata": {
  "kernelspec": {
   "display_name": "Python 3",
   "language": "python",
   "name": "python3"
  },
  "language_info": {
   "codemirror_mode": {
    "name": "ipython",
    "version": 3
   },
   "file_extension": ".py",
   "mimetype": "text/x-python",
   "name": "python",
   "nbconvert_exporter": "python",
   "pygments_lexer": "ipython3",
   "version": "3.7.6"
  }
 },
 "nbformat": 4,
 "nbformat_minor": 4
}
